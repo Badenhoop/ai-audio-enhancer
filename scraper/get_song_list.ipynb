{
 "cells": [
  {
   "cell_type": "code",
   "execution_count": 53,
   "metadata": {},
   "outputs": [],
   "source": [
    "import re\n",
    "import numpy as np\n",
    "from tqdm import tqdm\n",
    "import psycopg2\n",
    "from contextlib import contextmanager\n",
    "import pandas as pd\n",
    "from requests import Timeout\n",
    "import spotipy\n",
    "from spotipy.oauth2 import SpotifyClientCredentials\n",
    "import time\n",
    "\n",
    "sp = spotipy.Spotify(auth_manager=SpotifyClientCredentials(\n",
    "    client_id='3b39684f47a04dac88139d83421c9bab',\n",
    "    client_secret='aecfeb0c94654fb7a776a75d3d4ba597'))"
   ]
  },
  {
   "cell_type": "code",
   "execution_count": 2,
   "metadata": {},
   "outputs": [],
   "source": [
    "@contextmanager\n",
    "def connect():\n",
    "    \"\"\"Connect to the PostgreSQL database server\"\"\"\n",
    "    # connect to the PostgreSQL server\n",
    "    print('Connecting to the PostgreSQL database...')\n",
    "    conn = psycopg2.connect(\n",
    "        host='localhost',\n",
    "        port='5433',\n",
    "        database='musicbrainz_db',\n",
    "        user=\"musicbrainz\",\n",
    "        password=\"musicbrainz\")\n",
    "    c = conn.cursor()\n",
    "    try:\n",
    "        yield c\n",
    "    finally:\n",
    "        c.close()\n",
    "\n",
    "def iter_row(cursor, size=10):\n",
    "    while True:\n",
    "        rows = cursor.fetchmany(size)\n",
    "        if not rows:\n",
    "            break\n",
    "        for row in rows:\n",
    "            yield row\n",
    "\n",
    "def retry(fn, max_num_trials):\n",
    "    trials = 0\n",
    "    while trials < max_num_trials:\n",
    "        trials += 1\n",
    "        try:\n",
    "            return fn()\n",
    "        except Timeout as e:\n",
    "            if trials >= max_num_trials:\n",
    "                raise e"
   ]
  },
  {
   "cell_type": "code",
   "execution_count": null,
   "metadata": {},
   "outputs": [],
   "source": [
    "songs = []\n",
    "title_pattern = re.compile('^[A-Za-z][A-Za-z ]*$')\n",
    "with connect() as c:\n",
    "    c.execute(\n",
    "        \"SELECT DISTINCT LOWER(recording.name), LOWER(artist.name) FROM recording \"\n",
    "        \"   INNER JOIN artist_credit_name ON recording.artist_credit = artist_credit_name.artist_credit \"\n",
    "        \"   INNER JOIN artist ON artist_credit_name.artist = artist.id \"\n",
    "    )\n",
    "\n",
    "    while True:\n",
    "        rows = c.fetchmany(100)\n",
    "        if not rows:\n",
    "            break\n",
    "        songs.extend([row for row in rows if title_pattern.match(row[0]) and len(row[0]) > 1 and title_pattern.match(row[1]) and len(row[1]) > 1])"
   ]
  },
  {
   "cell_type": "markdown",
   "metadata": {},
   "source": [
    "# Insight\n",
    "\n",
    "- Song titles extremely ambiguous -> most titles appear under several artists\n",
    "- Lots of rather unknown songs -> no cover available\n",
    "- Lots of spam data -> requires tedious cleanup methods"
   ]
  },
  {
   "cell_type": "code",
   "execution_count": null,
   "metadata": {},
   "outputs": [],
   "source": [
    "songs_df = pd.DataFrame(songs)\n",
    "songs_df.columns = ['title', 'artist']\n",
    "songs_df.to_csv('songs.csv', index=False)"
   ]
  },
  {
   "cell_type": "code",
   "execution_count": 38,
   "metadata": {},
   "outputs": [],
   "source": [
    "songs_df = pd.read_csv('songs.csv')"
   ]
  },
  {
   "cell_type": "markdown",
   "metadata": {},
   "source": [
    "Number of songs"
   ]
  },
  {
   "cell_type": "code",
   "execution_count": 39,
   "metadata": {},
   "outputs": [
    {
     "data": {
      "text/plain": [
       "11002480"
      ]
     },
     "execution_count": 39,
     "metadata": {},
     "output_type": "execute_result"
    }
   ],
   "source": [
    "len(songs_df)"
   ]
  },
  {
   "cell_type": "markdown",
   "metadata": {},
   "source": [
    "Number of songs whose title appear more than once"
   ]
  },
  {
   "cell_type": "code",
   "execution_count": 40,
   "metadata": {},
   "outputs": [
    {
     "data": {
      "text/html": [
       "<div>\n",
       "<style scoped>\n",
       "    .dataframe tbody tr th:only-of-type {\n",
       "        vertical-align: middle;\n",
       "    }\n",
       "\n",
       "    .dataframe tbody tr th {\n",
       "        vertical-align: top;\n",
       "    }\n",
       "\n",
       "    .dataframe thead th {\n",
       "        text-align: right;\n",
       "    }\n",
       "</style>\n",
       "<table border=\"1\" class=\"dataframe\">\n",
       "  <thead>\n",
       "    <tr style=\"text-align: right;\">\n",
       "      <th></th>\n",
       "      <th>title</th>\n",
       "      <th>artist</th>\n",
       "    </tr>\n",
       "  </thead>\n",
       "  <tbody>\n",
       "    <tr>\n",
       "      <th>1</th>\n",
       "      <td>a a a</td>\n",
       "      <td>lildrughill</td>\n",
       "    </tr>\n",
       "    <tr>\n",
       "      <th>2</th>\n",
       "      <td>a a a</td>\n",
       "      <td>plk</td>\n",
       "    </tr>\n",
       "    <tr>\n",
       "      <th>3</th>\n",
       "      <td>a a a</td>\n",
       "      <td>rocket</td>\n",
       "    </tr>\n",
       "    <tr>\n",
       "      <th>12</th>\n",
       "      <td>a a e i o</td>\n",
       "      <td>b fachada</td>\n",
       "    </tr>\n",
       "    <tr>\n",
       "      <th>13</th>\n",
       "      <td>a a e i o</td>\n",
       "      <td>minta</td>\n",
       "    </tr>\n",
       "    <tr>\n",
       "      <th>...</th>\n",
       "      <td>...</td>\n",
       "      <td>...</td>\n",
       "    </tr>\n",
       "    <tr>\n",
       "      <th>11002473</th>\n",
       "      <td>zzzzzzzzzz</td>\n",
       "      <td>adam cadell</td>\n",
       "    </tr>\n",
       "    <tr>\n",
       "      <th>11002474</th>\n",
       "      <td>zzzzzzzzzz</td>\n",
       "      <td>brad fotsch</td>\n",
       "    </tr>\n",
       "    <tr>\n",
       "      <th>11002475</th>\n",
       "      <td>zzzzzzzzzz</td>\n",
       "      <td>carter thornton</td>\n",
       "    </tr>\n",
       "    <tr>\n",
       "      <th>11002476</th>\n",
       "      <td>zzzzzzzzzz</td>\n",
       "      <td>hannes</td>\n",
       "    </tr>\n",
       "    <tr>\n",
       "      <th>11002477</th>\n",
       "      <td>zzzzzzzzzz</td>\n",
       "      <td>vulfpeck</td>\n",
       "    </tr>\n",
       "  </tbody>\n",
       "</table>\n",
       "<p>7510649 rows × 2 columns</p>\n",
       "</div>"
      ],
      "text/plain": [
       "               title           artist\n",
       "1              a a a      lildrughill\n",
       "2              a a a              plk\n",
       "3              a a a           rocket\n",
       "12         a a e i o        b fachada\n",
       "13         a a e i o            minta\n",
       "...              ...              ...\n",
       "11002473  zzzzzzzzzz      adam cadell\n",
       "11002474  zzzzzzzzzz      brad fotsch\n",
       "11002475  zzzzzzzzzz  carter thornton\n",
       "11002476  zzzzzzzzzz           hannes\n",
       "11002477  zzzzzzzzzz         vulfpeck\n",
       "\n",
       "[7510649 rows x 2 columns]"
      ]
     },
     "execution_count": 40,
     "metadata": {},
     "output_type": "execute_result"
    }
   ],
   "source": [
    "v = songs_df.title.value_counts()\n",
    "songs_df[songs_df.title.isin(v.index[v > 1])]"
   ]
  },
  {
   "cell_type": "markdown",
   "metadata": {},
   "source": [
    "Artists who have at least 50 songs"
   ]
  },
  {
   "cell_type": "code",
   "execution_count": 50,
   "metadata": {},
   "outputs": [
    {
     "data": {
      "text/plain": [
       "44711"
      ]
     },
     "execution_count": 50,
     "metadata": {},
     "output_type": "execute_result"
    }
   ],
   "source": [
    "v = songs_df.artist.value_counts()\n",
    "artists = list(songs_df[songs_df.artist.isin(v.index[v >= 50])].groupby(['artist']).groups.keys())"
   ]
  },
  {
   "cell_type": "markdown",
   "metadata": {},
   "source": [
    "Get popularity for each artist using the spotify search API"
   ]
  },
  {
   "cell_type": "code",
   "execution_count": null,
   "metadata": {},
   "outputs": [],
   "source": [
    "popularities = dict()"
   ]
  },
  {
   "cell_type": "code",
   "execution_count": 55,
   "metadata": {},
   "outputs": [
    {
     "name": "stderr",
     "output_type": "stream",
     "text": [
      "15925it [25:34, 10.38it/s]\n"
     ]
    }
   ],
   "source": [
    "# It seems that one can only make 25000 requests per IP/user per day on the spotify search API.\n",
    "for i, artist in tqdm(enumerate(artists)):\n",
    "    try:\n",
    "        results = sp.search(q=artist, limit=1, type='artist')\n",
    "        items = results['artists']['items']\n",
    "        if len(items) == 0:\n",
    "            continue\n",
    "        # Check whether the exact name of the artist is contained in the results!\n",
    "        # Otherwise, a completely unknown artist might be interpreted as the abbreviation of a popular artist.\n",
    "        # For example, \"meg\" is interpreted by \"Meghan Trainor\" but \"meg\" in our dataset corresponds to some\n",
    "        # completely unknown artist.\n",
    "        name = items[0]['name'].lower()\n",
    "        if name != artist:\n",
    "            continue\n",
    "        popularities[artist] = items[0]['popularity']\n",
    "    except spotipy.SpotifyException as e:\n",
    "        print(f'Exception raised on artist \"{artist}\"')\n",
    "        print(e)"
   ]
  },
  {
   "cell_type": "code",
   "execution_count": 59,
   "metadata": {},
   "outputs": [],
   "source": [
    "popularity_df = pd.DataFrame(popularities.items(), columns=['artist', 'popularity'])\n",
    "popularity_df.to_csv('popularity.csv', index=False)"
   ]
  },
  {
   "cell_type": "code",
   "execution_count": 14,
   "metadata": {},
   "outputs": [],
   "source": [
    "popularity_df = pd.read_csv('popularity.csv')"
   ]
  },
  {
   "cell_type": "markdown",
   "metadata": {},
   "source": [
    "Grab only songs from popular artists"
   ]
  },
  {
   "cell_type": "code",
   "execution_count": 62,
   "metadata": {},
   "outputs": [],
   "source": [
    "most_popular_artists_df = popularity_df[popularity_df['popularity'] >= 70]\n",
    "most_popular_artists_df.to_csv('most_popular_artists.csv', index=False)\n",
    "popular_songs_df = songs_df[songs_df['artist'].isin(most_popular_artists_df['artist'])]"
   ]
  },
  {
   "cell_type": "code",
   "execution_count": 64,
   "metadata": {},
   "outputs": [],
   "source": [
    "popular_songs_df.to_csv('popular_songs.csv', index=False)"
   ]
  }
 ],
 "metadata": {
  "kernelspec": {
   "display_name": "Python 3.9.12 ('audio')",
   "language": "python",
   "name": "python3"
  },
  "language_info": {
   "codemirror_mode": {
    "name": "ipython",
    "version": 3
   },
   "file_extension": ".py",
   "mimetype": "text/x-python",
   "name": "python",
   "nbconvert_exporter": "python",
   "pygments_lexer": "ipython3",
   "version": "3.9.12"
  },
  "orig_nbformat": 4,
  "vscode": {
   "interpreter": {
    "hash": "b20f86334d7d7ff0604c435ec71991a016a149996346b83125c95b441679e69a"
   }
  }
 },
 "nbformat": 4,
 "nbformat_minor": 2
}
