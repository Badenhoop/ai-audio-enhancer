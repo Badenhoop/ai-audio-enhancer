{
 "cells": [
  {
   "cell_type": "code",
   "execution_count": 1,
   "metadata": {},
   "outputs": [
    {
     "name": "stdout",
     "output_type": "stream",
     "text": [
      "/home/philipp/ai-audio-enhancer\n"
     ]
    }
   ],
   "source": [
    "%cd .."
   ]
  },
  {
   "cell_type": "code",
   "execution_count": 11,
   "metadata": {},
   "outputs": [],
   "source": [
    "import torch\n",
    "import torch.nn as nn\n",
    "import torch.nn.functional as F\n",
    "import torchaudio as T\n",
    "import torchaudio.transforms as TT\n",
    "import pandas as pd\n",
    "import numpy as np\n",
    "from matplotlib import pyplot as plt\n",
    "import seaborn\n",
    "from moviepy.editor import *\n",
    "import wandb\n",
    "import seaborn as sns\n",
    "import librosa\n",
    "import pandas as pd\n",
    "from tqdm import tqdm\n",
    "import subprocess\n",
    "from glob import glob\n",
    "import random\n",
    "from scipy.io import wavfile\n",
    "from pydub import AudioSegment\n",
    "import shutil\n",
    "from dataset import build_dataloader\n",
    "from model import DiffusionModel\n",
    "\n",
    "random.seed(0)\n",
    "np.random.seed(0)"
   ]
  },
  {
   "cell_type": "markdown",
   "metadata": {},
   "source": [
    "Convert mp4 to mp3"
   ]
  },
  {
   "cell_type": "code",
   "execution_count": null,
   "metadata": {},
   "outputs": [],
   "source": [
    "def mp4_to_aac(in_path, out_path):\n",
    "    subprocess.run(\n",
    "        ['ffmpeg', '-y', '-i', in_path, '-c', 'copy', out_path], \n",
    "        check=True, \n",
    "        stdout=subprocess.DEVNULL, \n",
    "        stderr=subprocess.STDOUT)"
   ]
  },
  {
   "cell_type": "code",
   "execution_count": null,
   "metadata": {},
   "outputs": [],
   "source": [
    "audio, sr = librosa.load('tmp/test.aac', mono=True, sr=22050)\n",
    "audio"
   ]
  },
  {
   "cell_type": "code",
   "execution_count": null,
   "metadata": {},
   "outputs": [],
   "source": [
    "from torch_receptive_field import receptive_field\n",
    "\n",
    "model = nn.Sequential(\n",
    "    nn.Conv2d(1, 1, kernel_size=7, stride=2, padding=3),\n",
    "    nn.Conv2d(1, 1, kernel_size=7, stride=1, padding=6, dilation=2),\n",
    "    nn.Conv2d(1, 1, kernel_size=7, stride=2, padding=3),\n",
    "    nn.Conv2d(1, 1, kernel_size=7, stride=1, padding=6, dilation=2),\n",
    "    nn.Conv2d(1, 1, kernel_size=7, stride=2, padding=3),\n",
    "    nn.Conv2d(1, 1, kernel_size=7, stride=1, padding=6, dilation=2),\n",
    "    nn.Conv2d(1, 1, kernel_size=7, stride=2, padding=3),\n",
    "    nn.Conv2d(1, 1, kernel_size=7, stride=1, padding=6, dilation=2),\n",
    "    nn.Conv2d(1, 1, kernel_size=7, stride=2, padding=3),\n",
    "    nn.Conv2d(1, 1, kernel_size=7, stride=1, padding=6, dilation=2),\n",
    "    nn.Conv2d(1, 1, kernel_size=7, stride=2, padding=3),\n",
    "    nn.Conv2d(1, 1, kernel_size=7, stride=1, padding=6, dilation=2),\n",
    "    nn.Conv2d(1, 1, kernel_size=7, stride=2, padding=3),\n",
    "    nn.Conv2d(1, 1, kernel_size=7, stride=1, padding=6, dilation=2),\n",
    "    nn.Conv2d(1, 1, kernel_size=7, stride=2, padding=3),\n",
    "    nn.Conv2d(1, 1, kernel_size=7, stride=1, padding=6, dilation=2),\n",
    "    nn.Conv2d(1, 1, kernel_size=7, stride=2, padding=3),\n",
    "    nn.Conv2d(1, 1, kernel_size=7, stride=1, padding=6, dilation=2),\n",
    "    nn.Conv2d(1, 1, kernel_size=7, stride=2, padding=3),\n",
    "    nn.Conv2d(1, 1, kernel_size=7, stride=1, padding=6, dilation=2),\n",
    "    nn.Conv2d(1, 1, kernel_size=7, stride=2, padding=3),\n",
    "    nn.Conv2d(1, 1, kernel_size=7, stride=1, padding=6, dilation=2),\n",
    "    nn.Conv2d(1, 1, kernel_size=7, stride=2, padding=3),\n",
    "    nn.Conv2d(1, 1, kernel_size=7, stride=1, padding=6, dilation=2),\n",
    ")\n",
    "\n",
    "size = 44100 * 5\n",
    "receptive_field(model.cuda(), input_size=(1, size, 1))"
   ]
  },
  {
   "cell_type": "code",
   "execution_count": null,
   "metadata": {},
   "outputs": [],
   "source": [
    "def receptive_field(kernel_size, num_layers, dilation_cycle):\n",
    "    return (kernel_size - 1) * sum(dilation_cycle[i % len(dilation_cycle)] for i in range(num_layers)) + 1\n",
    "\n",
    "receptive_field(7, 30, [2**i for i in range(0, 9+1)])"
   ]
  },
  {
   "cell_type": "markdown",
   "metadata": {},
   "source": [
    "Diffusion Models:\n",
    "x -> x1, x2, xT ~ N(0, I)\n",
    "Train to reverse noise: x(t) -> x(t-1)\n",
    "\n",
    "Idea:\n",
    "Given input clip x, instead of reversing the process directly, add noise to it and then try to reverse the noise.\n",
    "Hypothesis: The output will not sound like the original but instead more like an improved version of the original but of course more different.\n",
    "When we add a lot of noise, the output will sound completely different than the original. \n",
    "In order to keep the original information, use features from another encoder (for example trained on contrasting cover songs).\n",
    "\n",
    "Diffusion Model TODOs:\n",
    "- Dataset\n",
    "- DataLoader\n",
    "- Colate function\n",
    "- Model\n",
    "- Training loop\n",
    "- Inference\n",
    "\n",
    "Memory consumption:\n",
    "- perform checkpointing\n",
    "\n",
    "Prototype Requirements:\n",
    "    - Denoise 5s segments\n",
    "    - Sampling rate: 44100\n",
    "\n",
    "Model architecture:\n",
    "- DiffWave:\n",
    "    - Each layer has the full output resolution\n",
    "    - Uses exponential dilation factors to have a receptive field that spans the entire input\n",
    "    - Problem: consumes a lot of memory\n",
    "    - Possible solution: trade compute for memory by using checkpointing -> too slow\n",
    "- U-Net WaveNet:\n",
    "    - Downsamples the sequence to reduce memory footprint and increase performance\n",
    "    - Problem: the ear is very sensitive to errors in the high frequencies which are troublesome during the upscaling operations\n",
    "-> Final decision: \n",
    "    - Use U-Net because WaveNet is either way too memory demanding or way too slow when using checkpointing\n",
    "    - Also, we can try to optimize the hell out of the U-Net architecture (skip connections, attention, etc.)"
   ]
  },
  {
   "cell_type": "code",
   "execution_count": 13,
   "metadata": {},
   "outputs": [],
   "source": [
    "songs_df = pd.read_csv('scraper/songs/dataset.csv')"
   ]
  },
  {
   "cell_type": "code",
   "execution_count": 14,
   "metadata": {},
   "outputs": [
    {
     "data": {
      "text/html": [
       "<div>\n",
       "<style scoped>\n",
       "    .dataframe tbody tr th:only-of-type {\n",
       "        vertical-align: middle;\n",
       "    }\n",
       "\n",
       "    .dataframe tbody tr th {\n",
       "        vertical-align: top;\n",
       "    }\n",
       "\n",
       "    .dataframe thead th {\n",
       "        text-align: right;\n",
       "    }\n",
       "</style>\n",
       "<table border=\"1\" class=\"dataframe\">\n",
       "  <thead>\n",
       "    <tr style=\"text-align: right;\">\n",
       "      <th></th>\n",
       "      <th>bitrate</th>\n",
       "      <th>audio_codec</th>\n",
       "      <th>filesize</th>\n",
       "      <th>id</th>\n",
       "      <th>title</th>\n",
       "      <th>artist</th>\n",
       "      <th>video_title</th>\n",
       "      <th>url</th>\n",
       "      <th>length</th>\n",
       "      <th>views</th>\n",
       "      <th>result_index</th>\n",
       "      <th>path</th>\n",
       "    </tr>\n",
       "  </thead>\n",
       "  <tbody>\n",
       "    <tr>\n",
       "      <th>19805</th>\n",
       "      <td>50409</td>\n",
       "      <td>mp4a.40.5</td>\n",
       "      <td>1530732</td>\n",
       "      <td>a870d462-928b-4edc-8c2a-26a9245df71a</td>\n",
       "      <td>bold as love</td>\n",
       "      <td>john mayer</td>\n",
       "      <td>Bold As Love (Jimi Hendrix, John Mayer Ver.) G...</td>\n",
       "      <td>https://youtube.com/watch?v=Ve80E111wpA</td>\n",
       "      <td>257</td>\n",
       "      <td>13693</td>\n",
       "      <td>6</td>\n",
       "      <td>john mayer/bold as love/a870d462-928b-4edc-8c2...</td>\n",
       "    </tr>\n",
       "    <tr>\n",
       "      <th>46732</th>\n",
       "      <td>49874</td>\n",
       "      <td>mp4a.40.5</td>\n",
       "      <td>1429373</td>\n",
       "      <td>d99b4de5-3ff9-40e6-81b9-0f7df3f5be56</td>\n",
       "      <td>ese momento</td>\n",
       "      <td>luis miguel</td>\n",
       "      <td>Robert Sarkozi - Ese Momento - Luis Miguel (co...</td>\n",
       "      <td>https://youtube.com/watch?v=HHLOupF7vuA</td>\n",
       "      <td>234</td>\n",
       "      <td>344</td>\n",
       "      <td>2</td>\n",
       "      <td>luis miguel/ese momento/d99b4de5-3ff9-40e6-81b...</td>\n",
       "    </tr>\n",
       "    <tr>\n",
       "      <th>7529</th>\n",
       "      <td>50144</td>\n",
       "      <td>mp4a.40.5</td>\n",
       "      <td>2456195</td>\n",
       "      <td>db84417c-39a6-46d0-a67a-6e632dcbb08b</td>\n",
       "      <td>animal magnetism</td>\n",
       "      <td>scorpions</td>\n",
       "      <td>Wynjara - Animal Magnetism (Scorpions cover)</td>\n",
       "      <td>https://youtube.com/watch?v=vwYaZr_eIEE</td>\n",
       "      <td>403</td>\n",
       "      <td>3341</td>\n",
       "      <td>3</td>\n",
       "      <td>scorpions/animal magnetism/db84417c-39a6-46d0-...</td>\n",
       "    </tr>\n",
       "    <tr>\n",
       "      <th>114946</th>\n",
       "      <td>50004</td>\n",
       "      <td>mp4a.40.5</td>\n",
       "      <td>999796</td>\n",
       "      <td>7861a049-286f-4a85-a461-205ebb456b1c</td>\n",
       "      <td>normal girl</td>\n",
       "      <td>bryson tiller</td>\n",
       "      <td>Bryson Tiller - Normal Girl (Slowed + Reverb) ...</td>\n",
       "      <td>https://youtube.com/watch?v=mhzxopBReaQ</td>\n",
       "      <td>164</td>\n",
       "      <td>7668</td>\n",
       "      <td>4</td>\n",
       "      <td>bryson tiller/normal girl/7861a049-286f-4a85-a...</td>\n",
       "    </tr>\n",
       "    <tr>\n",
       "      <th>59988</th>\n",
       "      <td>50024</td>\n",
       "      <td>mp4a.40.5</td>\n",
       "      <td>1302801</td>\n",
       "      <td>f0c15db3-76d4-4a46-96a0-99a458907ecd</td>\n",
       "      <td>glued</td>\n",
       "      <td>melanie martinez</td>\n",
       "      <td>Melanie Martinez - Glued - Cover &amp; Music Video</td>\n",
       "      <td>https://youtube.com/watch?v=fjSuyNmjYvM</td>\n",
       "      <td>213</td>\n",
       "      <td>3203</td>\n",
       "      <td>3</td>\n",
       "      <td>melanie martinez/glued/f0c15db3-76d4-4a46-96a0...</td>\n",
       "    </tr>\n",
       "    <tr>\n",
       "      <th>...</th>\n",
       "      <td>...</td>\n",
       "      <td>...</td>\n",
       "      <td>...</td>\n",
       "      <td>...</td>\n",
       "      <td>...</td>\n",
       "      <td>...</td>\n",
       "      <td>...</td>\n",
       "      <td>...</td>\n",
       "      <td>...</td>\n",
       "      <td>...</td>\n",
       "      <td>...</td>\n",
       "      <td>...</td>\n",
       "    </tr>\n",
       "    <tr>\n",
       "      <th>88855</th>\n",
       "      <td>49301</td>\n",
       "      <td>mp4a.40.5</td>\n",
       "      <td>1277094</td>\n",
       "      <td>9ccaca63-003a-4cf1-9e3f-80f2e1c1f5d4</td>\n",
       "      <td>latch</td>\n",
       "      <td>disclosure</td>\n",
       "      <td>Latch - Disclosure ft. Sam Smith (Hannah Trigw...</td>\n",
       "      <td>https://youtube.com/watch?v=3Y4SpglXbBE</td>\n",
       "      <td>211</td>\n",
       "      <td>757046</td>\n",
       "      <td>3</td>\n",
       "      <td>disclosure/latch/9ccaca63-003a-4cf1-9e3f-80f2e...</td>\n",
       "    </tr>\n",
       "    <tr>\n",
       "      <th>100363</th>\n",
       "      <td>49962</td>\n",
       "      <td>mp4a.40.5</td>\n",
       "      <td>1538703</td>\n",
       "      <td>27eff101-a73c-4a43-ac49-e7c5c53deac5</td>\n",
       "      <td>man on the edge</td>\n",
       "      <td>iron maiden</td>\n",
       "      <td>Iron Maiden - \"Man On The Edge\" cover</td>\n",
       "      <td>https://youtube.com/watch?v=wuyh5wcJeJA</td>\n",
       "      <td>252</td>\n",
       "      <td>8131</td>\n",
       "      <td>1</td>\n",
       "      <td>iron maiden/man on the edge/27eff101-a73c-4a43...</td>\n",
       "    </tr>\n",
       "    <tr>\n",
       "      <th>49370</th>\n",
       "      <td>49990</td>\n",
       "      <td>mp4a.40.5</td>\n",
       "      <td>1322613</td>\n",
       "      <td>32d67110-4eaf-4930-8813-bb4b9f68be60</td>\n",
       "      <td>fall again</td>\n",
       "      <td>michael jackson</td>\n",
       "      <td>GABI - Fall Again Michael Jackson (cover)</td>\n",
       "      <td>https://youtube.com/watch?v=AHjyIap8yYY</td>\n",
       "      <td>217</td>\n",
       "      <td>5838</td>\n",
       "      <td>1</td>\n",
       "      <td>michael jackson/fall again/32d67110-4eaf-4930-...</td>\n",
       "    </tr>\n",
       "    <tr>\n",
       "      <th>52113</th>\n",
       "      <td>49858</td>\n",
       "      <td>mp4a.40.5</td>\n",
       "      <td>551903</td>\n",
       "      <td>852ddc9f-ea7e-4e18-b41c-8a78afa8e835</td>\n",
       "      <td>fire flies</td>\n",
       "      <td>gorillaz</td>\n",
       "      <td>Fire Flies - Gorillaz (Cover by Eggo)</td>\n",
       "      <td>https://youtube.com/watch?v=-WjRPRU5Prc</td>\n",
       "      <td>92</td>\n",
       "      <td>479</td>\n",
       "      <td>6</td>\n",
       "      <td>gorillaz/fire flies/852ddc9f-ea7e-4e18-b41c-8a...</td>\n",
       "    </tr>\n",
       "    <tr>\n",
       "      <th>130001</th>\n",
       "      <td>48509</td>\n",
       "      <td>mp4a.40.5</td>\n",
       "      <td>1065506</td>\n",
       "      <td>43c89704-30a5-4c61-8ac6-8d2e74abc1cd</td>\n",
       "      <td>put me back together</td>\n",
       "      <td>weezer</td>\n",
       "      <td>Weezer (Put Me Back Together) cover by Chris M...</td>\n",
       "      <td>https://youtube.com/watch?v=BzjvkgMPV_w</td>\n",
       "      <td>179</td>\n",
       "      <td>3479</td>\n",
       "      <td>0</td>\n",
       "      <td>weezer/put me back together/43c89704-30a5-4c61...</td>\n",
       "    </tr>\n",
       "  </tbody>\n",
       "</table>\n",
       "<p>1000 rows × 12 columns</p>\n",
       "</div>"
      ],
      "text/plain": [
       "        bitrate audio_codec  filesize                                    id  \\\n",
       "19805     50409   mp4a.40.5   1530732  a870d462-928b-4edc-8c2a-26a9245df71a   \n",
       "46732     49874   mp4a.40.5   1429373  d99b4de5-3ff9-40e6-81b9-0f7df3f5be56   \n",
       "7529      50144   mp4a.40.5   2456195  db84417c-39a6-46d0-a67a-6e632dcbb08b   \n",
       "114946    50004   mp4a.40.5    999796  7861a049-286f-4a85-a461-205ebb456b1c   \n",
       "59988     50024   mp4a.40.5   1302801  f0c15db3-76d4-4a46-96a0-99a458907ecd   \n",
       "...         ...         ...       ...                                   ...   \n",
       "88855     49301   mp4a.40.5   1277094  9ccaca63-003a-4cf1-9e3f-80f2e1c1f5d4   \n",
       "100363    49962   mp4a.40.5   1538703  27eff101-a73c-4a43-ac49-e7c5c53deac5   \n",
       "49370     49990   mp4a.40.5   1322613  32d67110-4eaf-4930-8813-bb4b9f68be60   \n",
       "52113     49858   mp4a.40.5    551903  852ddc9f-ea7e-4e18-b41c-8a78afa8e835   \n",
       "130001    48509   mp4a.40.5   1065506  43c89704-30a5-4c61-8ac6-8d2e74abc1cd   \n",
       "\n",
       "                       title            artist  \\\n",
       "19805           bold as love        john mayer   \n",
       "46732            ese momento       luis miguel   \n",
       "7529        animal magnetism         scorpions   \n",
       "114946           normal girl     bryson tiller   \n",
       "59988                  glued  melanie martinez   \n",
       "...                      ...               ...   \n",
       "88855                  latch        disclosure   \n",
       "100363       man on the edge       iron maiden   \n",
       "49370             fall again   michael jackson   \n",
       "52113             fire flies          gorillaz   \n",
       "130001  put me back together            weezer   \n",
       "\n",
       "                                              video_title  \\\n",
       "19805   Bold As Love (Jimi Hendrix, John Mayer Ver.) G...   \n",
       "46732   Robert Sarkozi - Ese Momento - Luis Miguel (co...   \n",
       "7529         Wynjara - Animal Magnetism (Scorpions cover)   \n",
       "114946  Bryson Tiller - Normal Girl (Slowed + Reverb) ...   \n",
       "59988      Melanie Martinez - Glued - Cover & Music Video   \n",
       "...                                                   ...   \n",
       "88855   Latch - Disclosure ft. Sam Smith (Hannah Trigw...   \n",
       "100363              Iron Maiden - \"Man On The Edge\" cover   \n",
       "49370           GABI - Fall Again Michael Jackson (cover)   \n",
       "52113               Fire Flies - Gorillaz (Cover by Eggo)   \n",
       "130001  Weezer (Put Me Back Together) cover by Chris M...   \n",
       "\n",
       "                                            url  length   views  result_index  \\\n",
       "19805   https://youtube.com/watch?v=Ve80E111wpA     257   13693             6   \n",
       "46732   https://youtube.com/watch?v=HHLOupF7vuA     234     344             2   \n",
       "7529    https://youtube.com/watch?v=vwYaZr_eIEE     403    3341             3   \n",
       "114946  https://youtube.com/watch?v=mhzxopBReaQ     164    7668             4   \n",
       "59988   https://youtube.com/watch?v=fjSuyNmjYvM     213    3203             3   \n",
       "...                                         ...     ...     ...           ...   \n",
       "88855   https://youtube.com/watch?v=3Y4SpglXbBE     211  757046             3   \n",
       "100363  https://youtube.com/watch?v=wuyh5wcJeJA     252    8131             1   \n",
       "49370   https://youtube.com/watch?v=AHjyIap8yYY     217    5838             1   \n",
       "52113   https://youtube.com/watch?v=-WjRPRU5Prc      92     479             6   \n",
       "130001  https://youtube.com/watch?v=BzjvkgMPV_w     179    3479             0   \n",
       "\n",
       "                                                     path  \n",
       "19805   john mayer/bold as love/a870d462-928b-4edc-8c2...  \n",
       "46732   luis miguel/ese momento/d99b4de5-3ff9-40e6-81b...  \n",
       "7529    scorpions/animal magnetism/db84417c-39a6-46d0-...  \n",
       "114946  bryson tiller/normal girl/7861a049-286f-4a85-a...  \n",
       "59988   melanie martinez/glued/f0c15db3-76d4-4a46-96a0...  \n",
       "...                                                   ...  \n",
       "88855   disclosure/latch/9ccaca63-003a-4cf1-9e3f-80f2e...  \n",
       "100363  iron maiden/man on the edge/27eff101-a73c-4a43...  \n",
       "49370   michael jackson/fall again/32d67110-4eaf-4930-...  \n",
       "52113   gorillaz/fire flies/852ddc9f-ea7e-4e18-b41c-8a...  \n",
       "130001  weezer/put me back together/43c89704-30a5-4c61...  \n",
       "\n",
       "[1000 rows x 12 columns]"
      ]
     },
     "execution_count": 14,
     "metadata": {},
     "output_type": "execute_result"
    }
   ],
   "source": [
    "sample = songs_df.sample(1000)\n",
    "sample"
   ]
  },
  {
   "cell_type": "code",
   "execution_count": 15,
   "metadata": {},
   "outputs": [
    {
     "name": "stderr",
     "output_type": "stream",
     "text": [
      "100%|██████████| 1000/1000 [00:02<00:00, 426.28it/s]\n"
     ]
    }
   ],
   "source": [
    "root = 'scraper/songs'\n",
    "for row in tqdm(list(sample.itertuples())):\n",
    "    src = os.path.join(root, row.path)\n",
    "    dst = f'denoising/data/{row.id}.mp4'\n",
    "    shutil.copyfile(src, dst)"
   ]
  },
  {
   "cell_type": "code",
   "execution_count": null,
   "metadata": {},
   "outputs": [],
   "source": [
    "paths = glob('denoising/data/*.aac')\n",
    "sampling_rates = []\n",
    "for path in tqdm(paths):\n",
    "    audio = AudioSegment.from_file(path, 'aac')\n",
    "    sampling_rates.append(audio.frame_rate)\n",
    "sampling_rates"
   ]
  },
  {
   "cell_type": "code",
   "execution_count": 10,
   "metadata": {},
   "outputs": [
    {
     "data": {
      "text/plain": [
       "0"
      ]
     },
     "execution_count": 10,
     "metadata": {},
     "output_type": "execute_result"
    }
   ],
   "source": [
    "sum(sr != 44100 for sr in sampling_rates)"
   ]
  },
  {
   "cell_type": "code",
   "execution_count": 6,
   "metadata": {},
   "outputs": [
    {
     "name": "stdout",
     "output_type": "stream",
     "text": [
      "44100\n"
     ]
    },
    {
     "data": {
      "text/plain": [
       "(16785408,)"
      ]
     },
     "execution_count": 6,
     "metadata": {},
     "output_type": "execute_result"
    }
   ],
   "source": [
    "print(audio.frame_rate)\n",
    "samples = np.array(audio.get_array_of_samples())\n",
    "samples.shape"
   ]
  },
  {
   "cell_type": "code",
   "execution_count": 29,
   "metadata": {},
   "outputs": [],
   "source": [
    "data_loader = build_dataloader(\n",
    "    directory='denoising/data',\n",
    "    audio_format='mp4',\n",
    "    batch_size=8,\n",
    "    audio_length=5 * 44100,\n",
    "    shuffle=False)"
   ]
  },
  {
   "cell_type": "code",
   "execution_count": 30,
   "metadata": {},
   "outputs": [
    {
     "name": "stdout",
     "output_type": "stream",
     "text": [
      "tensor([[-0.2237, -0.1564, -0.2192,  ..., -0.1639, -0.3018, -0.2074],\n",
      "        [-0.3581, -0.3445, -0.3942,  ...,  0.1373,  0.0517,  0.0770],\n",
      "        [ 0.3277,  0.2013,  0.2853,  ..., -0.1835, -0.3482, -0.1794],\n",
      "        ...,\n",
      "        [ 0.0188,  0.0188,  0.0204,  ...,  0.0843,  0.0656,  0.0656],\n",
      "        [-0.2343, -0.1724, -0.1772,  ..., -0.3191, -0.1817, -0.3513],\n",
      "        [-0.0471, -0.0508, -0.0480,  ...,  0.0244,  0.0244,  0.0200]])\n"
     ]
    }
   ],
   "source": [
    "for batch in data_loader:\n",
    "    print(batch)\n",
    "    break"
   ]
  }
 ],
 "metadata": {
  "kernelspec": {
   "display_name": "Python 3.9.12 ('audio')",
   "language": "python",
   "name": "python3"
  },
  "language_info": {
   "codemirror_mode": {
    "name": "ipython",
    "version": 3
   },
   "file_extension": ".py",
   "mimetype": "text/x-python",
   "name": "python",
   "nbconvert_exporter": "python",
   "pygments_lexer": "ipython3",
   "version": "3.9.12"
  },
  "orig_nbformat": 4,
  "vscode": {
   "interpreter": {
    "hash": "b20f86334d7d7ff0604c435ec71991a016a149996346b83125c95b441679e69a"
   }
  }
 },
 "nbformat": 4,
 "nbformat_minor": 2
}
